{
 "cells": [
  {
   "cell_type": "code",
   "execution_count": null,
   "id": "60b378cd-d97f-4f03-b7f4-f813fcda019f",
   "metadata": {},
   "outputs": [],
   "source": [
    "# 1. Given three integer arrays arr1, arr2 and arr3 sorted in strictly increasing"
   ]
  },
  {
   "cell_type": "code",
   "execution_count": null,
   "id": "d525525a-8455-4f52-8470-24d3d043f6a9",
   "metadata": {},
   "outputs": [],
   "source": [
    "class Solution:\n",
    "    def minSwap(self, A: List[int], B: List[int]) -> int:\n",
    "        n = len(A)\n",
    "        dp = [[float('inf')] * n for _ in range(2)]\n",
    "        dp[0][0], dp[1][0] = 0, 1 # keep # swap \n",
    "        for i in range(1, n):\n",
    "            if A[i] > A[i - 1] and B[i] > B[i - 1]:\n",
    "                # keep i\n",
    "                dp[0][i] = dp[0][i - 1]\n",
    "                # swap i\n",
    "                dp[1][i] = dp[1][i - 1] + 1\n",
    "            if A[i] > B[i - 1] and B[i] > A[i - 1]:\n",
    "                # keep i\n",
    "                dp[0][i] = min(dp[0][i], dp[1][i - 1])\n",
    "                # swap i\n",
    "                dp[1][i] = min(dp[1][i], dp[0][i - 1] + 1)\n",
    "        return min(dp[0][n - 1], dp[1][n - 1])"
   ]
  },
  {
   "cell_type": "code",
   "execution_count": null,
   "id": "632d3481-ac35-4157-959f-4e134cac122f",
   "metadata": {},
   "outputs": [],
   "source": [
    "# 2. Given two 0-indexed integer arrays nums1 and nums2, "
   ]
  },
  {
   "cell_type": "code",
   "execution_count": null,
   "id": "86c56162-5c2c-4842-a706-d72582d3c867",
   "metadata": {},
   "outputs": [],
   "source": [
    "class Solution:\n",
    "    def findDifference(self, nums1: List[int], nums2: List[int]) -> List[List[int]]:\n",
    "        res=[]\n",
    "        a=[]\n",
    "        a=set(nums1) - set(nums2)\n",
    "        b=[]\n",
    "        b=set(nums2) - set(nums1)\n",
    "        res.append(a)\n",
    "        res.append(b)\n",
    "        return res"
   ]
  },
  {
   "cell_type": "code",
   "execution_count": null,
   "id": "69c37ae0-4108-46c9-8840-c58edcbc06f1",
   "metadata": {},
   "outputs": [],
   "source": [
    "# 3. Given a 2D integer array matrix, return the transpose of matrix."
   ]
  },
  {
   "cell_type": "code",
   "execution_count": null,
   "id": "e1e60ccd-2b0d-4461-96ca-d4a731a6fc73",
   "metadata": {},
   "outputs": [],
   "source": [
    "class Solution:\n",
    "    def transpose(self, matrix: List[List[int]]) -> List[List[int]]:\n",
    "        m,n=len(matrix),len(matrix[0])\n",
    "        ans = [[None] * m for _ in range(n)]\n",
    "        for i in range(m):\n",
    "            for j in range(n):\n",
    "                ans[j][i]=matrix[i][j]\n",
    "        \n",
    "        return ans"
   ]
  },
  {
   "cell_type": "code",
   "execution_count": null,
   "id": "52661437-4487-4f1c-abc6-ab2c988cb73d",
   "metadata": {},
   "outputs": [],
   "source": [
    "# 4.Given an integer array nums of 2n integers, group these integers "
   ]
  },
  {
   "cell_type": "code",
   "execution_count": null,
   "id": "19ae65dd-c686-47e6-ba26-6e4b3c0474d4",
   "metadata": {},
   "outputs": [],
   "source": [
    "class Solution:\n",
    "    def arrayPairSum(self, nums: List[int]) -> int:\n",
    "        # nums.sort()\n",
    "        # s=0\n",
    "        # for i in range(0,len(nums),2):\n",
    "        #     s+=min(nums[i],nums[i+1])\n",
    "        # return s\n",
    "        return sum(sorted(nums)[::2])"
   ]
  },
  {
   "cell_type": "code",
   "execution_count": null,
   "id": "823f6f09-8346-46fc-b867-4f013d6e7035",
   "metadata": {},
   "outputs": [],
   "source": [
    "# 5. You have n coins and you want to build a staircase with these coins. "
   ]
  },
  {
   "cell_type": "code",
   "execution_count": null,
   "id": "87860f9b-224e-49b7-818e-89fadc5720e0",
   "metadata": {},
   "outputs": [],
   "source": [
    "class Solution:\n",
    "    def arrangeCoins(self, n: int) -> int:\n",
    "        ans= bisect_left(range(1,n),n,key=lambda x:x*(x+1)//2)+1\n",
    "        if ans*(ans+1)//2==n:\n",
    "            return ans\n",
    "        return ans-1"
   ]
  },
  {
   "cell_type": "code",
   "execution_count": null,
   "id": "d0e49f49-73aa-4dc3-9774-12894a657414",
   "metadata": {},
   "outputs": [],
   "source": [
    "# 6.Given an integer array nums sorted in **non-decreasing** order, "
   ]
  },
  {
   "cell_type": "code",
   "execution_count": null,
   "id": "a1150e59-c4d0-4504-9e87-f382822911c4",
   "metadata": {},
   "outputs": [],
   "source": [
    "class Solution:\n",
    "    def sortedSquares(self, nums: List[int]) -> List[int]:\n",
    "        \n",
    "        # Two Pointer Approach\n",
    "        n = len(nums)\n",
    "        l, r = 0, n - 1\n",
    "        k = n - 1\n",
    "        ans = [0] * n\n",
    "        while k >= 0:\n",
    "            if abs(nums[l]) > nums[r]:\n",
    "                ans[k] = nums[l] * nums[l]\n",
    "                l += 1\n",
    "            else:\n",
    "                ans[k] = nums[r] * nums[r]\n",
    "                r -= 1\n",
    "            k -= 1\n",
    "        return ans"
   ]
  },
  {
   "cell_type": "code",
   "execution_count": null,
   "id": "1bf2a272-a959-4846-a1f9-661a78e1a833",
   "metadata": {},
   "outputs": [],
   "source": [
    "# 7. You are given an m x n matrix M initialized with all 0's"
   ]
  },
  {
   "cell_type": "code",
   "execution_count": null,
   "id": "5421da9f-6cd7-4d6f-b61a-bf2645b17a2e",
   "metadata": {},
   "outputs": [],
   "source": [
    "class Solution:\n",
    "    def maxCount(self, m: int, n: int, ops: List[List[int]]) -> int:\n",
    "        min_row = m\n",
    "        min_col = n\n",
    "        for i in range(len(ops)):\n",
    "            min_row=min(min_row, ops[i][0])\n",
    "            min_col=min(min_col, ops[i][1])\n",
    "        return min_row*min_col"
   ]
  },
  {
   "cell_type": "code",
   "execution_count": null,
   "id": "b94955da-3a64-4573-bc41-1a02d04613d3",
   "metadata": {},
   "outputs": [],
   "source": [
    "# 8. Given the array nums consisting of 2n elements in the form"
   ]
  },
  {
   "cell_type": "code",
   "execution_count": null,
   "id": "9410c19f-f1d9-491b-944f-560b02144942",
   "metadata": {},
   "outputs": [],
   "source": [
    "class Solution:\n",
    "    def shuffle(self, nums: List[int], n: int) -> List[int]:\n",
    "                                                        #  Example: [2,5,1,3,4,7      n = 3\n",
    "        \n",
    "        return list(chain(*zip(nums[:n],nums[n:])))     # list(chain(*zip([2,5,1],nums[3,4,7])))\n",
    "                                                        # list(chain(*[(2,3), (5,4), (1,7)])\n",
    "                                                        # list(chain((2,3), (5,4), (1,7))\n",
    "                                                        # list(2,3, 5,4, 1,7)\n",
    "                                                        # [2,3,5,4,1,7]"
   ]
  },
  {
   "cell_type": "code",
   "execution_count": null,
   "id": "f3235e14-5c55-4ea7-a535-362fe1c61656",
   "metadata": {},
   "outputs": [],
   "source": []
  }
 ],
 "metadata": {
  "kernelspec": {
   "display_name": "Python 3 (ipykernel)",
   "language": "python",
   "name": "python3"
  },
  "language_info": {
   "codemirror_mode": {
    "name": "ipython",
    "version": 3
   },
   "file_extension": ".py",
   "mimetype": "text/x-python",
   "name": "python",
   "nbconvert_exporter": "python",
   "pygments_lexer": "ipython3",
   "version": "3.10.6"
  }
 },
 "nbformat": 4,
 "nbformat_minor": 5
}
